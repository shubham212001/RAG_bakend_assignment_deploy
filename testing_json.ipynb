{
 "cells": [
  {
   "cell_type": "code",
   "execution_count": 3,
   "metadata": {},
   "outputs": [
    {
     "name": "stdout",
     "output_type": "stream",
     "text": [
      "{'message': 'JSON Uploaded successfully', 'json_global_id': '876b2e4c-3ce9-44d8-8c60-ce05e559eccf', 'fileName': 'sample.json'}\n"
     ]
    }
   ],
   "source": [
    "import requests\n",
    "\n",
    "# Define API endpoint\n",
    "url = \"https://rag-bakend-assignment-deploy.onrender.com/api/json/json_upload\"\n",
    "# url = \"http://localhost:4000/api/json/json_upload\"  # Backend URL\n",
    "\n",
    "# Path to your JSON file\n",
    "file_path = \"/Users/shubhamsharma/Downloads/sample.json\"  # Replace with your actual JSON file path\n",
    "\n",
    "with open(file_path, \"rb\") as file:\n",
    "    files = {\"document\": file}\n",
    "    response = requests.post(url, files=files)\n",
    "\n",
    "print(response.json())  # Print the response from backend\n",
    "data = response.json()  # Convert Response object to a dictionary\n",
    "document_id = data.get(\"json_global_id\")  # Extract ID safely\n",
    "\n",
    "\n",
    "\n"
   ]
  },
  {
   "cell_type": "code",
   "execution_count": null,
   "metadata": {},
   "outputs": [],
   "source": []
  },
  {
   "cell_type": "code",
   "execution_count": 4,
   "metadata": {},
   "outputs": [],
   "source": [
    "import requests\n",
    "\n",
    "def get_json_stats_advanced(document_id, field, operation, value=None, group_field=None, ranges=None):\n",
    "    url = \"https://rag-bakend-assignment-deploy.onrender.com/api/json/json_stats\"\n",
    "    \n",
    "    params = {\n",
    "        \"document_id\": document_id,\n",
    "        \"field\": field,\n",
    "        \"operation\": operation\n",
    "    }\n",
    "\n",
    "    # Add optional parameters only if they are provided\n",
    "    if value is not None:\n",
    "        params[\"value\"] = value\n",
    "    if group_field is not None:\n",
    "        params[\"group_field\"] = group_field\n",
    "    if ranges is not None:\n",
    "        params[\"ranges\"] = str(ranges)  # Convert list to string for URL encoding\n",
    "\n",
    "    try:\n",
    "        response = requests.get(url, params=params)\n",
    "        response.raise_for_status()  # Raise an error for bad responses (4xx, 5xx)\n",
    "        return response.json()\n",
    "    except requests.exceptions.RequestException as e:\n",
    "        return {\"error\": str(e)}"
   ]
  },
  {
   "cell_type": "code",
   "execution_count": null,
   "metadata": {},
   "outputs": [
    {
     "name": "stdout",
     "output_type": "stream",
     "text": [
      "{'document_id': '7f87ef97-1623-431e-aa99-e0fa96226cef', 'field': 'total_spent', 'operation': 'max', 'result': 29533.75}\n"
     ]
    }
   ],
   "source": [
    "\n",
    "# Supported Operations\n",
    "# \t1.\tmax – Maximum value of the field\n",
    "# \t2.\tmin – Minimum value of the field\n",
    "# \t3.\tsum – Sum of all values in the field\n",
    "# \t4.\taverage – Average (mean) of the field values\n",
    "# \t5.\tmedian – Median of the field values\n",
    "# \t6.\tmode – Most frequently occurring value\n",
    "# \t7.\tvariance – Variance of the field values\n",
    "# \t8.\tstd_dev – Standard deviation of the field values\n",
    "# \t9.\tcount_above – Count of values greater than a given number\n",
    "# \t10.\tcount_below – Count of values less than a given number\n",
    "# \t11.\tcount_equal – Count of values equal to a given number\n",
    "# \t12.\tgroup_by – Groups values by another field\n",
    "# \t13.\tbucket – Buckets values into defined ranges\n",
    "# \t14.\tmost_common – Most frequently occurring string value in a field\n",
    "# \t15.\tunique_count – Count of unique values in a field\n",
    "\n",
    "#print(get_json_stats(json_global_id, 'total_spent', 'max'))\n",
    "print(get_json_stats_advanced(\"7f87ef97-1623-431e-aa99-e0fa96226cef\", 'total_spent', 'max'))\n"
   ]
  },
  {
   "cell_type": "code",
   "execution_count": 5,
   "metadata": {},
   "outputs": [],
   "source": [
    "#document_id=\"7f87ef97-1623-431e-aa99-e0fa96226cef\"\n",
    "field=\"total_spent\""
   ]
  },
  {
   "cell_type": "code",
   "execution_count": 6,
   "metadata": {},
   "outputs": [
    {
     "name": "stdout",
     "output_type": "stream",
     "text": [
      "{'document_id': '876b2e4c-3ce9-44d8-8c60-ce05e559eccf', 'field': 'total_spent', 'operation': 'max', 'result': 29533.75}\n",
      "{'document_id': '876b2e4c-3ce9-44d8-8c60-ce05e559eccf', 'field': 'total_spent', 'operation': 'min', 'result': 5009.22}\n",
      "{'document_id': '876b2e4c-3ce9-44d8-8c60-ce05e559eccf', 'field': 'total_spent', 'operation': 'sum', 'result': 799057.88}\n",
      "{'document_id': '876b2e4c-3ce9-44d8-8c60-ce05e559eccf', 'field': 'total_spent', 'operation': 'average', 'result': 15981.1576}\n",
      "{'document_id': '876b2e4c-3ce9-44d8-8c60-ce05e559eccf', 'field': 'total_spent', 'operation': 'median', 'result': 15716.175}\n",
      "{'document_id': '876b2e4c-3ce9-44d8-8c60-ce05e559eccf', 'field': 'total_spent', 'operation': 'mode', 'result': [8441.36, 14493.03, 17175.46, 5246.69, 12642.49, 8425.19, 14030.25, 20658.48, 19048.01, 6519.43, 22771.43, 19696.47, 5586.27, 21527.74, 10001.78, 7210.42, 6243.65, 14380.69, 17808.59, 24071.11, 23683.61, 16339.67, 29286.23, 15666.7, 9797.31, 12388.9, 6954.03, 5009.22, 18494.37, 17558.92, 25670.23, 15765.65, 16815.45, 24061.17, 13491.49, 7915.38, 23267.06, 15503.73, 28376.88, 18981.5, 25639.3, 14677.7, 23070.44, 7003.77, 20521.24, 10132.1, 29533.75, 7003.01, 28074.38, 12396.15]}\n",
      "{'document_id': '876b2e4c-3ce9-44d8-8c60-ce05e559eccf', 'field': 'total_spent', 'operation': 'variance', 'result': 49914238.937974244}\n",
      "{'document_id': '876b2e4c-3ce9-44d8-8c60-ce05e559eccf', 'field': 'total_spent', 'operation': 'std_dev', 'result': 7065.000986409998}\n",
      "{'document_id': '876b2e4c-3ce9-44d8-8c60-ce05e559eccf', 'field': 'total_spent', 'operation': 'count_above', 'result': 0}\n",
      "{'document_id': '876b2e4c-3ce9-44d8-8c60-ce05e559eccf', 'field': 'total_spent', 'operation': 'count_below', 'result': 50}\n",
      "{'document_id': '876b2e4c-3ce9-44d8-8c60-ce05e559eccf', 'field': 'total_spent', 'operation': 'count_equal', 'result': 0}\n",
      "{'document_id': '876b2e4c-3ce9-44d8-8c60-ce05e559eccf', 'field': 'total_spent', 'operation': 'group_by', 'result': {'Silver': [8441.36, 14493.03, 5246.69, 19048.01, 6519.43, 22771.43, 21527.74, 10001.78, 7210.42, 6243.65, 15666.7, 6954.03, 5009.22, 25639.3, 14677.7, 23070.44, 7003.77, 20521.24, 12396.15], 'Gold': [17175.46, 12642.49, 8425.19, 20658.48, 24071.11, 16339.67, 9797.31, 12388.9, 17558.92, 25670.23, 7915.38, 23267.06, 28376.88, 10132.1, 29533.75, 7003.01, 28074.38], 'Platinum': [14030.25, 19696.47, 5586.27, 14380.69, 17808.59, 23683.61, 29286.23, 18494.37, 15765.65, 16815.45, 24061.17, 13491.49, 15503.73, 18981.5]}}\n",
      "{'document_id': '876b2e4c-3ce9-44d8-8c60-ce05e559eccf', 'field': 'total_spent', 'operation': 'bucket', 'result': [{'range': '20-30', 'count': 0}, {'range': '30-40', 'count': 0}, {'range': '40-50', 'count': 0}, {'range': '50+', 'count': 50}]}\n",
      "{'document_id': '876b2e4c-3ce9-44d8-8c60-ce05e559eccf', 'field': 'total_spent', 'operation': 'most_common', 'result': ['8441.36', '14493.03', '17175.46', '5246.69', '12642.49', '8425.19', '14030.25', '20658.48', '19048.01', '6519.43', '22771.43', '19696.47', '5586.27', '21527.74', '10001.78', '7210.42', '6243.65', '14380.69', '17808.59', '24071.11', '23683.61', '16339.67', '29286.23', '15666.7', '9797.31', '12388.9', '6954.03', '5009.22', '18494.37', '17558.92', '25670.23', '15765.65', '16815.45', '24061.17', '13491.49', '7915.38', '23267.06', '15503.73', '28376.88', '18981.5', '25639.3', '14677.7', '23070.44', '7003.77', '20521.24', '10132.1', '29533.75', '7003.01', '28074.38', '12396.15']}\n",
      "{'document_id': '876b2e4c-3ce9-44d8-8c60-ce05e559eccf', 'field': 'total_spent', 'operation': 'unique_count', 'result': 50}\n"
     ]
    }
   ],
   "source": [
    "# Maximum value of the field\n",
    "print(get_json_stats_advanced(document_id, field, \"max\"))\n",
    "\n",
    "# Minimum value of the field\n",
    "print(get_json_stats_advanced(document_id, field, \"min\"))\n",
    "\n",
    "# Sum of all values in the field\n",
    "print(get_json_stats_advanced(document_id, field, \"sum\"))\n",
    "\n",
    "# Average (mean) of the field values\n",
    "print(get_json_stats_advanced(document_id, field, \"average\"))\n",
    "\n",
    "# Median of the field values\n",
    "print(get_json_stats_advanced(document_id, field, \"median\"))\n",
    "\n",
    "# Most frequently occurring value (Mode)\n",
    "print(get_json_stats_advanced(document_id, field, \"mode\"))\n",
    "\n",
    "# Variance of the field values\n",
    "print(get_json_stats_advanced(document_id, field, \"variance\"))\n",
    "\n",
    "# Standard deviation of the field values\n",
    "print(get_json_stats_advanced(document_id, field, \"std_dev\"))\n",
    "\n",
    "# Count of values greater than a given number (e.g., 30)\n",
    "print(get_json_stats_advanced(document_id, field, \"count_above\", value=30000))\n",
    "\n",
    "# Count of values less than a given number (e.g., 50)\n",
    "print(get_json_stats_advanced(document_id, field, \"count_below\", value=30000))\n",
    "\n",
    "# Count of values equal to a given number (e.g., 40)\n",
    "print(get_json_stats_advanced(document_id, field, \"count_equal\", value=14000))\n",
    "\n",
    "# Groups values by another field (e.g., \"city\")\n",
    "print(get_json_stats_advanced(document_id, field, \"group_by\", group_field=\"membership\"))\n",
    "\n",
    "# Buckets values into defined ranges\n",
    "print(get_json_stats_advanced(document_id, field, \"bucket\", ranges=[20, 30, 40, 50]))\n",
    "\n",
    "# Most frequently occurring string value in a field\n",
    "print(get_json_stats_advanced(document_id, field, \"most_common\"))\n",
    "\n",
    "# Count of unique values in a field\n",
    "print(get_json_stats_advanced(document_id, field, \"unique_count\"))"
   ]
  },
  {
   "cell_type": "code",
   "execution_count": null,
   "metadata": {},
   "outputs": [],
   "source": []
  },
  {
   "cell_type": "code",
   "execution_count": null,
   "metadata": {},
   "outputs": [],
   "source": []
  },
  {
   "cell_type": "code",
   "execution_count": null,
   "metadata": {},
   "outputs": [],
   "source": []
  },
  {
   "cell_type": "code",
   "execution_count": null,
   "metadata": {},
   "outputs": [],
   "source": []
  }
 ],
 "metadata": {
  "kernelspec": {
   "display_name": "Python 3",
   "language": "python",
   "name": "python3"
  },
  "language_info": {
   "codemirror_mode": {
    "name": "ipython",
    "version": 3
   },
   "file_extension": ".py",
   "mimetype": "text/x-python",
   "name": "python",
   "nbconvert_exporter": "python",
   "pygments_lexer": "ipython3",
   "version": "3.9.6"
  }
 },
 "nbformat": 4,
 "nbformat_minor": 2
}
