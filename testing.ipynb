{
 "cells": [
  {
   "cell_type": "code",
   "execution_count": 4,
   "metadata": {},
   "outputs": [],
   "source": [
    "import os\n",
    "import pymupdf  # PyMuPDF for PDFs\n",
    "from PyPDF2 import PdfReader\n",
    "from docx import Document\n",
    "\n",
    "def read_file(file_path):\n",
    "    \"\"\"Reads a file (PDF, DOCX, TXT) and returns its text content.\"\"\"\n",
    "    if not os.path.exists(file_path):\n",
    "        return \"File not found!\"\n",
    "\n",
    "    ext = os.path.splitext(file_path)[1].lower()\n",
    "\n",
    "    if ext == \".pdf\":\n",
    "        return read_pdf(file_path)\n",
    "    elif ext == \".docx\":\n",
    "        return read_docx(file_path)\n",
    "    elif ext == \".txt\":\n",
    "        return read_txt(file_path)\n",
    "    else:\n",
    "        return \"Unsupported file format!\"\n",
    "\n",
    "def read_pdf(file_path):\n",
    "    \"\"\"Reads text from a PDF file.\"\"\"\n",
    "    try:\n",
    "        doc = pymupdf.open(file_path)\n",
    "        text = \"\\n\".join(page.get_text() for page in doc)\n",
    "        return text.strip()\n",
    "    except Exception as e:\n",
    "        return f\"Error reading PDF: {e}\"\n",
    "\n",
    "def read_docx(file_path):\n",
    "    \"\"\"Reads text from a DOCX file.\"\"\"\n",
    "    try:\n",
    "        doc = Document(file_path)\n",
    "        text = \"\\n\".join(para.text for para in doc.paragraphs)\n",
    "        return text.strip()\n",
    "    except Exception as e:\n",
    "        return f\"Error reading DOCX: {e}\"\n",
    "\n",
    "def read_txt(file_path):\n",
    "    \"\"\"Reads text from a TXT file.\"\"\"\n",
    "    try:\n",
    "        with open(file_path, \"r\", encoding=\"utf-8\") as file:\n",
    "            return file.read().strip()\n",
    "    except Exception as e:\n",
    "        return f\"Error reading TXT: {e}\"\n",
    "\n",
    "# Example usage\n"
   ]
  },
  {
   "cell_type": "code",
   "execution_count": 51,
   "metadata": {},
   "outputs": [
    {
     "name": "stdout",
     "output_type": "stream",
     "text": [
      "Defaulting to user installation because normal site-packages is not writeable\n",
      "Collecting pymupdf\n",
      "  Downloading pymupdf-1.25.3-cp39-abi3-macosx_11_0_arm64.whl (18.6 MB)\n",
      "\u001b[K     |████████████████████████████████| 18.6 MB 7.7 MB/s eta 0:00:011\n",
      "\u001b[?25hCollecting python-docx\n",
      "  Downloading python_docx-1.1.2-py3-none-any.whl (244 kB)\n",
      "\u001b[K     |████████████████████████████████| 244 kB 4.6 MB/s eta 0:00:01\n",
      "\u001b[?25hRequirement already satisfied: pypdf2 in /Users/shubhamsharma/Library/Python/3.9/lib/python/site-packages (3.0.1)\n",
      "Requirement already satisfied: typing-extensions>=4.9.0 in /Users/shubhamsharma/Library/Python/3.9/lib/python/site-packages (from python-docx) (4.12.2)\n",
      "Requirement already satisfied: lxml>=3.1.0 in /Users/shubhamsharma/Library/Python/3.9/lib/python/site-packages (from python-docx) (5.3.1)\n",
      "Installing collected packages: python-docx, pymupdf\n",
      "Successfully installed pymupdf-1.25.3 python-docx-1.1.2\n",
      "\u001b[33mWARNING: You are using pip version 21.2.4; however, version 25.0.1 is available.\n",
      "You should consider upgrading via the '/Library/Developer/CommandLineTools/usr/bin/python3 -m pip install --upgrade pip' command.\u001b[0m\n",
      "Note: you may need to restart the kernel to use updated packages.\n"
     ]
    }
   ],
   "source": [
    "pip install pymupdf python-docx pypdf2\n"
   ]
  },
  {
   "cell_type": "code",
   "execution_count": null,
   "metadata": {},
   "outputs": [],
   "source": []
  },
  {
   "cell_type": "code",
   "execution_count": null,
   "metadata": {},
   "outputs": [],
   "source": []
  },
  {
   "cell_type": "code",
   "execution_count": 7,
   "metadata": {},
   "outputs": [],
   "source": [
    "import requests\n",
    "\n",
    "# url = \"http://localhost:4000/upload\"  # Replace with your actual backend URL\n",
    "url = \"http://localhost:4000/api/files/upload\"  # Correct format\n",
    "\n",
    "file_path = \"/Users/shubhamsharma/Downloads/Uploader_test_doc.pdf\"  # Replace with the file you want to upload\n",
    "extracted_text=read_file(file_path)\n",
    "files = {\"document\": extracted_text}\n",
    "response = requests.post(url, files=files)\n",
    "data = response.json()  # Convert Response object to a dictionary\n",
    "global_document_id = data.get(\"globaldocumentId\")  # Extract ID safely\n"
   ]
  },
  {
   "cell_type": "code",
   "execution_count": 15,
   "metadata": {},
   "outputs": [
    {
     "name": "stdout",
     "output_type": "stream",
     "text": [
      "{'message': 'File processed successfully', 'globaldocumentId': '16beef93-b439-4213-9ca9-49e912f9ab1a', 'fileName': 'C-Programming-Rajesh-Pandey.pdf', 'extractedText': '\\n\\n1 \\n \\nCOMPUTER PROGRAMMING \\nLECTURE NOTES \\n \\nYear : 2020 -2021 \\n \\nSubject : C Programming \\nPrepared By : Rajesh Pandey \\n \\n \\n \\n \\n \\n\\n2 \\n \\nOUTPU\\nT \\nMONITO\\nR \\nALU, \\nCU, MU \\n \\nCPU \\nKEYBOARD \\n \\n \\n \\nINPUT \\nUNIT-I \\nINTRODUCTION TO COMPUTERS \\n \\nCOMPUTER SYSTEMS \\n―A Computer is an electronic device that stores, manipulates and retrieves the data.‖ We \\ncan also refer computer computes the information suppli'}\n"
     ]
    }
   ],
   "source": [
    "import requests\n",
    "\n",
    "# url = \"https://rag-bakend-assignment-deploy.onrender.com/upload\"  # Backend URL\n",
    "\n",
    "url = \"http://localhost:4000/api/files/upload\"  # Backend URL\n",
    "\n",
    "\n",
    "file_path = \"/Users/shubhamsharma/Downloads/C-Programming-Rajesh-Pandey.pdf\"  # File path\n",
    "\n",
    "# Open the file and send it in the request\n",
    "with open(file_path, \"rb\") as file:\n",
    "    files = {\"document\": (file_path.split(\"/\")[-1], file, \"application/pdf\")}  # Correct filename\n",
    "\n",
    "    response = requests.post(url, files=files)\n",
    "\n",
    "# Process response\n",
    "data = response.json()\n",
    "global_document_id = data.get(\"globaldocumentId\")\n",
    "print(data)"
   ]
  },
  {
   "cell_type": "code",
   "execution_count": null,
   "metadata": {},
   "outputs": [],
   "source": []
  },
  {
   "cell_type": "code",
   "execution_count": null,
   "metadata": {},
   "outputs": [],
   "source": []
  },
  {
   "cell_type": "code",
   "execution_count": 20,
   "metadata": {},
   "outputs": [
    {
     "name": "stdout",
     "output_type": "stream",
     "text": [
      "\n",
      "Merged Text:\n",
      "\n",
      "om of the figure is the path followed by the user who interacts directly with \n",
      "the operating system whennecessary. \n",
      "\n",
      "5 \n",
      " \n",
      " \n",
      " \n",
      " \n",
      " \n",
      " \n",
      " \n",
      " \n",
      "COMPUTING ENVIRONMENTS \n",
      "The word  ̳compute‘ is used to refer to the process of converting information to data. The \n",
      "advent  of  several  new  kinds  of  computers  created  a  need  to  have  different  computing \n",
      "environments. \n",
      "The following are the different kinds of computing environments available \n",
      "1. Personal ComputingEnvironment \n",
      "2. Time Sharing Environmen t \n",
      "3. Client/ServerEnvironment \n",
      "4. Distributed ComputingEnvironment \n",
      "Personal Computing Environment \n",
      "In 1971, Marcian E. Hoff, working for INTEL combined the basic elements of the central \n",
      "processing  unit  into  the  microprocessor.  If  we  are  using  a  personal  computer  then  all  the \n",
      "computer hardware components are tied together. This kind of computing is used to satisfy the \n",
      "needs of a single user, who uses the computer for the personal tasks. \n",
      "Ex: Personal Computer \n",
      " \n",
      " \n",
      "Time-Sharing  Environment \n",
      "The concept of time sharing computing is to share the processing of the computer basing \n",
      "on the criteria time. In this environment all the computing must be done by the central computer. \n",
      "\n",
      "6 \n",
      " \n",
      "The  complete  processing  is  done  by  the  central  computer.  The  computer  which  ask  for \n",
      "processing are only dumbterminals. \n",
      " \n",
      " \n",
      " \n",
      "Client/Server Environment \n",
      "A  Client/Server  Computing  involves  the  processing  between  two  machines.  A  client \n",
      "Machine  is  the  one  which  requ ests  processing.  Server  Machine  is  the  one  which  offers  the \n",
      "processing. Hence the client  is  Capable enough to  do processing. A portion  of processing is  \n",
      "done by client and the core(important) processing is done byServer. \n",
      "Distributed Computing \n",
      "A  distributed  computing  environment  provides  a  seamless  integration  of  computing \n",
      "functions between different servers and clients. A client not just a requestor for processing the \n",
      "information from the server. The client also has t s that manage the hardware resources of a computer and \n",
      "perform required information processing tasks. These programs are divided into three classes: \n",
      "the operating system, system support, and systemdevelopment. \n",
      "\n",
      "4 \n",
      " \n",
      "The operating system provides services such as a user interface, file and database access, and \n",
      "interfaces  to  communication systems  such as  Internet  protocols.  The primary purpose of this \n",
      "software is to keep the system operating in an efficient manner while allowing the use\n"
     ]
    }
   ],
   "source": [
    "\n",
    "# search_url = \"https://rag-bakend-assignment-deploy.onrender.com/search\"  # Backend URL\n",
    "search_url = \"http://localhost:4000/api/search/search\"  # Backend URL\n",
    "\n",
    "query_data = {\n",
    "    \"query\": \"what are the types of computing environments\",\n",
    "    \"globaldocumentId\": global_document_id  # Pass the document ID correctly\n",
    "}\n",
    "\n",
    "response = requests.post(search_url, json=query_data)\n",
    "\n",
    "#print(\"Response:\", response.json())  # Print the search results\n",
    "# Handle response\n",
    "if response.status_code == 200:\n",
    "    try:\n",
    "        data = response.json()  # Convert Response object to a dictionary\n",
    "        \n",
    "        # Check if response is a list\n",
    "        if isinstance(data, list):\n",
    "            # Merge all 'text' values into a single string\n",
    "            merged_text = \" \".join(chunk.get(\"text\", \"\") for chunk in data)\n",
    "            \n",
    "            print(\"\\nMerged Text:\\n\")\n",
    "            print(merged_text)\n",
    "        else:\n",
    "            print(\"Unexpected response format:\", data)\n",
    "    except Exception as e:\n",
    "        print(\"Error parsing JSON response:\", e)\n",
    "else:\n",
    "    print(\"Error:\", response.status_code, response.text)\n"
   ]
  },
  {
   "cell_type": "code",
   "execution_count": null,
   "metadata": {},
   "outputs": [],
   "source": []
  },
  {
   "cell_type": "code",
   "execution_count": null,
   "metadata": {},
   "outputs": [],
   "source": []
  }
 ],
 "metadata": {
  "kernelspec": {
   "display_name": "Python 3",
   "language": "python",
   "name": "python3"
  },
  "language_info": {
   "codemirror_mode": {
    "name": "ipython",
    "version": 3
   },
   "file_extension": ".py",
   "mimetype": "text/x-python",
   "name": "python",
   "nbconvert_exporter": "python",
   "pygments_lexer": "ipython3",
   "version": "3.9.6"
  }
 },
 "nbformat": 4,
 "nbformat_minor": 2
}
