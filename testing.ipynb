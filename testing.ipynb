{
 "cells": [
  {
   "cell_type": "code",
   "execution_count": 13,
   "metadata": {},
   "outputs": [],
   "source": [
    "import os\n",
    "import pymupdf  # PyMuPDF for PDFs\n",
    "from PyPDF2 import PdfReader\n",
    "from docx import Document\n",
    "\n",
    "def read_file(file_path):\n",
    "    \"\"\"Reads a file (PDF, DOCX, TXT) and returns its text content.\"\"\"\n",
    "    if not os.path.exists(file_path):\n",
    "        return \"File not found!\"\n",
    "\n",
    "    ext = os.path.splitext(file_path)[1].lower()\n",
    "\n",
    "    if ext == \".pdf\":\n",
    "        return read_pdf(file_path)\n",
    "    elif ext == \".docx\":\n",
    "        return read_docx(file_path)\n",
    "    elif ext == \".txt\":\n",
    "        return read_txt(file_path)\n",
    "    else:\n",
    "        return \"Unsupported file format!\"\n",
    "\n",
    "def read_pdf(file_path):\n",
    "    \"\"\"Reads text from a PDF file.\"\"\"\n",
    "    try:\n",
    "        doc = pymupdf.open(file_path)\n",
    "        text = \"\\n\".join(page.get_text() for page in doc)\n",
    "        return text.strip()\n",
    "    except Exception as e:\n",
    "        return f\"Error reading PDF: {e}\"\n",
    "\n",
    "def read_docx(file_path):\n",
    "    \"\"\"Reads text from a DOCX file.\"\"\"\n",
    "    try:\n",
    "        doc = Document(file_path)\n",
    "        text = \"\\n\".join(para.text for para in doc.paragraphs)\n",
    "        return text.strip()\n",
    "    except Exception as e:\n",
    "        return f\"Error reading DOCX: {e}\"\n",
    "\n",
    "def read_txt(file_path):\n",
    "    \"\"\"Reads text from a TXT file.\"\"\"\n",
    "    try:\n",
    "        with open(file_path, \"r\", encoding=\"utf-8\") as file:\n",
    "            return file.read().strip()\n",
    "    except Exception as e:\n",
    "        return f\"Error reading TXT: {e}\"\n",
    "\n",
    "\n"
   ]
  },
  {
   "cell_type": "code",
   "execution_count": 51,
   "metadata": {},
   "outputs": [
    {
     "name": "stdout",
     "output_type": "stream",
     "text": [
      "Defaulting to user installation because normal site-packages is not writeable\n",
      "Collecting pymupdf\n",
      "  Downloading pymupdf-1.25.3-cp39-abi3-macosx_11_0_arm64.whl (18.6 MB)\n",
      "\u001b[K     |████████████████████████████████| 18.6 MB 7.7 MB/s eta 0:00:011\n",
      "\u001b[?25hCollecting python-docx\n",
      "  Downloading python_docx-1.1.2-py3-none-any.whl (244 kB)\n",
      "\u001b[K     |████████████████████████████████| 244 kB 4.6 MB/s eta 0:00:01\n",
      "\u001b[?25hRequirement already satisfied: pypdf2 in /Users/shubhamsharma/Library/Python/3.9/lib/python/site-packages (3.0.1)\n",
      "Requirement already satisfied: typing-extensions>=4.9.0 in /Users/shubhamsharma/Library/Python/3.9/lib/python/site-packages (from python-docx) (4.12.2)\n",
      "Requirement already satisfied: lxml>=3.1.0 in /Users/shubhamsharma/Library/Python/3.9/lib/python/site-packages (from python-docx) (5.3.1)\n",
      "Installing collected packages: python-docx, pymupdf\n",
      "Successfully installed pymupdf-1.25.3 python-docx-1.1.2\n",
      "\u001b[33mWARNING: You are using pip version 21.2.4; however, version 25.0.1 is available.\n",
      "You should consider upgrading via the '/Library/Developer/CommandLineTools/usr/bin/python3 -m pip install --upgrade pip' command.\u001b[0m\n",
      "Note: you may need to restart the kernel to use updated packages.\n"
     ]
    }
   ],
   "source": [
    "pip install pymupdf python-docx pypdf2\n"
   ]
  },
  {
   "cell_type": "code",
   "execution_count": null,
   "metadata": {},
   "outputs": [],
   "source": []
  },
  {
   "cell_type": "code",
   "execution_count": null,
   "metadata": {},
   "outputs": [],
   "source": []
  },
  {
   "cell_type": "code",
   "execution_count": null,
   "metadata": {},
   "outputs": [],
   "source": [
    "# import requests\n",
    "\n",
    "# # url = \"http://localhost:4000/upload\"  # Replace with your actual backend URL\n",
    "# # url = \"http://localhost:4000/api/files/upload\"  # Correct format\n",
    "# url=\"https://rag-bakend-assignment-deploy.onrender.com/api/files/upload\"\n",
    "# file_path = \"/Users/shubhamsharma/Downloads/Uploader_test_doc.pdf\"  # Replace with the file you want to upload\n",
    "# extracted_text=read_file(file_path)\n",
    "# files = {\"document\": extracted_text}\n",
    "# response = requests.post(url, files=files)\n",
    "# print(response)\n",
    "# data = response.json()  # Convert Response object to a dictionary\n",
    "# global_document_id = data.get(\"globaldocumentId\")  # Extract ID safely\n"
   ]
  },
  {
   "cell_type": "code",
   "execution_count": 38,
   "metadata": {},
   "outputs": [
    {
     "name": "stdout",
     "output_type": "stream",
     "text": [
      "{'message': 'File processed successfully', 'globaldocumentId': 'd4dbe934-f32b-4ef2-ac39-10441faa125e', 'fileName': 'Speech_ACM (5).pdf', 'extractedText': '\\n\\n1\\nBridging Linguistic Divides: A Novel\\nTransformer-Based Neural Machine Translation\\nFramework for Gondi-Hindi Translation\\nRahul Shukla, Bhavesh Ajwani, Santosh Kumar\\n✦\\nAbstract—In an era where cultural preservation is paramount, bridging\\nlinguistic gaps between endangered and low-resource language groups\\nis crucial. This paper introduces a groundbreaking approach for translat-\\ning the endangered'}\n"
     ]
    }
   ],
   "source": [
    "import requests\n",
    "\n",
    "# url = \"https://rag-bakend-assignment-deploy.onrender.com/upload\"  # Backend URL\n",
    "\n",
    "url = \"http://localhost:4000/api/files/upload\"  # Backend URL\n",
    "# url=\"https://rag-bakend-assignment-deploy.onrender.com/api/files/upload\"\n",
    "\n",
    "\n",
    "file_path = \"/Users/shubhamsharma/Downloads/api_test/Speech_ACM (5).pdf\"  # File path\n",
    "\n",
    "# Open the file and send it in the request\n",
    "with open(file_path, \"rb\") as file:\n",
    "    files = {\"document\": (file_path.split(\"/\")[-1], file, \"application/pdf\")}  # Correct filename\n",
    "\n",
    "    response = requests.post(url, files=files)\n",
    "\n",
    "# Process response\n",
    "data = response.json()\n",
    "global_document_id = data.get(\"globaldocumentId\")\n",
    "print(data)"
   ]
  },
  {
   "cell_type": "code",
   "execution_count": 43,
   "metadata": {},
   "outputs": [
    {
     "name": "stdout",
     "output_type": "stream",
     "text": [
      "Uploaded Speech_ACM (5).pdf: {'message': 'File processed successfully', 'globaldocumentId': 'db40427d-f926-4004-ad49-d72c345a0edb', 'fileName': 'Speech_ACM (5).pdf', 'extractedText': '\\n\\n1\\nBridging Linguistic Divides: A Novel\\nTransformer-Based Neural Machine Translation\\nFramework for Gondi-Hindi Translation\\nRahul Shukla, Bhavesh Ajwani, Santosh Kumar\\n✦\\nAbstract—In an era where cultural preservation is paramount, bridging\\nlinguistic gaps between endangered and low-resource language groups\\nis crucial. This paper introduces a groundbreaking approach for translat-\\ning the endangered'}\n",
      "Uploaded history_of_git.pdf: {'message': 'File processed successfully', 'globaldocumentId': '30b03519-a18a-4757-930d-7fa1fa4412f7', 'fileName': 'history_of_git.pdf', 'extractedText': '\\n\\nThe History of Git\\nIntroduction\\nGit  is  a  distributed  version  control  system  that  has  become  an  essential  tool  for  software\\ndevelopment. Created by Linus Torvalds in 2005, Git was designed to address the growing need for\\nan efficient, flexible, and reliable system to track changes in source code. Today, it is widely used by\\ndevelopers around the world, powering open-source and enter'}\n"
     ]
    }
   ],
   "source": [
    "import requests\n",
    "import os\n",
    "\n",
    "# Define the backend URL\n",
    "# url = \"https://rag-bakend-assignment-deploy.onrender.com/api/files/upload\"\n",
    "url = \"http://localhost:4000/api/files/upload\"  # Backend URL\n",
    "\n",
    "# Folder containing the files\n",
    "folder_path = \"/Users/shubhamsharma/Downloads/api_test/\"\n",
    "\n",
    "# Iterate over all files in the folder\n",
    "for file_name in os.listdir(folder_path):\n",
    "    if file_name.endswith(\".pdf\"):  # Process only PDF files\n",
    "        file_path = os.path.join(folder_path, file_name)\n",
    "        \n",
    "        with open(file_path, \"rb\") as file:\n",
    "            files = {\"document\": (file_name, file, \"application/pdf\")}\n",
    "            response = requests.post(url, files=files)\n",
    "\n",
    "        # Process response\n",
    "        if response.status_code == 200:\n",
    "            data = response.json()\n",
    "            global_document_id = data.get(\"globaldocumentId\")\n",
    "            print(f\"Uploaded {file_name}: {data}\")\n",
    "        else:\n",
    "            print(f\"Failed to upload {file_name}: {response.text}\")"
   ]
  },
  {
   "cell_type": "code",
   "execution_count": null,
   "metadata": {},
   "outputs": [],
   "source": []
  },
  {
   "cell_type": "code",
   "execution_count": null,
   "metadata": {},
   "outputs": [],
   "source": []
  },
  {
   "cell_type": "code",
   "execution_count": 44,
   "metadata": {},
   "outputs": [
    {
     "name": "stdout",
     "output_type": "stream",
     "text": [
      "\n",
      "Merged Text:\n",
      "\n",
      "Santosh  Kumar  is  working  as  an  Assistant  Professor  with  the  Department\n",
      "of Computer Science and Engineering at IIIT-Naya Raipur, Chhattisgarh (e-\n",
      "mail:santosh@iiitnr.edu.in). L\n",
      "ANGUAGEthe  essence  of  human  connection  and  cul-\n",
      "tural   identity   serves   as   a   conduit   for   transmitting\n",
      "knowledge, traditions, and heritage [1]Amidst the vast array\n",
      "of languages spoken worldwide, a stark reality emerges: be-\n",
      "tween 6,000 to 7,000 languages currently exist, yet between\n",
      "50% and 90% of them face severe endangerment or extinc-\n",
      "tion  by  the  dawn  of  the  22nd  century  [4]. [18]  Mehta,  D.,  Santy,  S.,  Mothilal,  R.,  Srivastava,  B.,  Sharma,  A.,\n",
      "Shukla,  A.,  Prasad,  V.,  U,  V.,  Sharma,  A.,  &  Bali,  K. (2020).\n"
     ]
    }
   ],
   "source": [
    "\n",
    "# search_url = \"https://rag-bakend-assignment-deploy.onrender.com/api/search/search\"  # Backend URL\n",
    "search_url = \"http://localhost:4000/api/search/search\"  # Backend URL\n",
    "\n",
    "query_data = {\n",
    "    \"query\": \"Santosh Kumar\",\n",
    "    \"globaldocumentId\": \"db40427d-f926-4004-ad49-d72c345a0edb\" # Pass the document ID correctly\n",
    "}\n",
    "\n",
    "response = requests.post(search_url, json=query_data)\n",
    "\n",
    "#print(\"Response:\", response.json())  # Print the search results\n",
    "# Handle response\n",
    "if response.status_code == 200:\n",
    "    try:\n",
    "        data = response.json()  # Convert Response object to a dictionary\n",
    "        \n",
    "        # Check if response is a list\n",
    "        if isinstance(data, list):\n",
    "            # Merge all 'text' values into a single string\n",
    "            merged_text = \" \".join(chunk.get(\"text\", \"\") for chunk in data)\n",
    "            \n",
    "            print(\"\\nMerged Text:\\n\")\n",
    "            print(merged_text)\n",
    "        else:\n",
    "            print(\"Unexpected response format:\", data)\n",
    "    except Exception as e:\n",
    "        print(\"Error parsing JSON response:\", e)\n",
    "else:\n",
    "    print(\"Error:\", response.status_code, response.text)\n"
   ]
  },
  {
   "cell_type": "code",
   "execution_count": null,
   "metadata": {},
   "outputs": [],
   "source": []
  },
  {
   "cell_type": "code",
   "execution_count": null,
   "metadata": {},
   "outputs": [],
   "source": []
  }
 ],
 "metadata": {
  "kernelspec": {
   "display_name": "Python 3",
   "language": "python",
   "name": "python3"
  },
  "language_info": {
   "codemirror_mode": {
    "name": "ipython",
    "version": 3
   },
   "file_extension": ".py",
   "mimetype": "text/x-python",
   "name": "python",
   "nbconvert_exporter": "python",
   "pygments_lexer": "ipython3",
   "version": "3.9.6"
  }
 },
 "nbformat": 4,
 "nbformat_minor": 2
}
